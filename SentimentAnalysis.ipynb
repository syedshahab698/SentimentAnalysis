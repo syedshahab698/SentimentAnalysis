{
 "cells": [
  {
   "cell_type": "code",
   "execution_count": 22,
   "metadata": {
    "colab": {
     "base_uri": "https://localhost:8080/",
     "height": 90
    },
    "colab_type": "code",
    "id": "kZq9bzExq754",
    "outputId": "f719ca29-6f9c-46fa-c1e4-699c94f8ef7a"
   },
   "outputs": [
    {
     "name": "stdout",
     "output_type": "stream",
     "text": [
      "[nltk_data] Downloading package wordnet to /root/nltk_data...\n",
      "[nltk_data]   Package wordnet is already up-to-date!\n",
      "[nltk_data] Downloading package stopwords to /root/nltk_data...\n",
      "[nltk_data]   Package stopwords is already up-to-date!\n"
     ]
    }
   ],
   "source": [
    "import pandas as pd\n",
    "import numpy as np\n",
    "import re\n",
    "import nltk\n",
    "from nltk.stem import WordNetLemmatizer\n",
    "from nltk.corpus import stopwords\n",
    "nltk.download('wordnet')\n",
    "nltk.download('stopwords')\n",
    "from sklearn.model_selection import train_test_split,GridSearchCV\n",
    "from sklearn.feature_extraction.text import TfidfVectorizer\n",
    "from sklearn.linear_model import LogisticRegression\n",
    "from sklearn.ensemble import RandomForestClassifier,GradientBoostingClassifier\n",
    "from xgboost import XGBClassifier\n",
    "from lightgbm import LGBMClassifier\n",
    "from sklearn.metrics import accuracy_score,precision_score,recall_score,f1_score\n",
    "from sklearn.svm import SVC\n",
    "import os\n",
    "os.chdir('/content/drive/My Drive/Projects/Sentiment Analysis')"
   ]
  },
  {
   "cell_type": "code",
   "execution_count": 0,
   "metadata": {
    "colab": {},
    "colab_type": "code",
    "id": "kn3B3bO7rhEs"
   },
   "outputs": [],
   "source": [
    "sample = pd.read_csv('/content/drive/My Drive/Projects/Sentiment Analysis/sample_submission_LnhVWA4.csv')\n",
    "test = pd.read_csv('/content/drive/My Drive/Projects/Sentiment Analysis/test_oJQbWVk.csv')\n",
    "train = pd.read_csv('/content/drive/My Drive/Projects/Sentiment Analysis/train_2kmZucJ.csv')"
   ]
  },
  {
   "cell_type": "code",
   "execution_count": 3,
   "metadata": {
    "colab": {
     "base_uri": "https://localhost:8080/",
     "height": 363
    },
    "colab_type": "code",
    "id": "oO26xfDdsXnx",
    "outputId": "a2624e35-cbb6-418d-db4e-f616df53eef5"
   },
   "outputs": [
    {
     "name": "stdout",
     "output_type": "stream",
     "text": [
      "Train Summary:\n",
      "Shape Of Data :(7920, 3)\n",
      "        Dtype  NAs  Uniques\n",
      "id      int64    0     7920\n",
      "label   int64    0        2\n",
      "tweet  object    0     7918 \n",
      "\n",
      "Test Summary:\n",
      "Shape Of Data :(1953, 2)\n",
      "        Dtype  NAs  Uniques\n",
      "id      int64    0     1953\n",
      "tweet  object    0     1953 \n",
      "\n",
      "Sample Summary:\n",
      "Shape Of Data :(1953, 2)\n",
      "       Dtype  NAs  Uniques\n",
      "id     int64    0     1953\n",
      "label  int64    0        1 \n",
      "\n"
     ]
    }
   ],
   "source": [
    "def summary(data):\n",
    "  print('Shape Of Data :{}'.format(data.shape))\n",
    "  print(pd.DataFrame({'Dtype':data.dtypes,\n",
    "                       'NAs':data.isnull().sum(),\n",
    "                       'Uniques':data.nunique()}),'\\n')\n",
    "def main():\n",
    "  print('Train Summary:')\n",
    "  summary(train)\n",
    "  print('Test Summary:')\n",
    "  summary(test)\n",
    "  print('Sample Summary:')\n",
    "  summary(sample)\n",
    "\n",
    "main()  "
   ]
  },
  {
   "cell_type": "code",
   "execution_count": 4,
   "metadata": {
    "colab": {
     "base_uri": "https://localhost:8080/",
     "height": 198
    },
    "colab_type": "code",
    "id": "Q4ntCKe-tZm9",
    "outputId": "47b5b373-d40e-4fd4-8fb9-0ed8dc7ac3a5"
   },
   "outputs": [
    {
     "data": {
      "text/html": [
       "<div>\n",
       "<style scoped>\n",
       "    .dataframe tbody tr th:only-of-type {\n",
       "        vertical-align: middle;\n",
       "    }\n",
       "\n",
       "    .dataframe tbody tr th {\n",
       "        vertical-align: top;\n",
       "    }\n",
       "\n",
       "    .dataframe thead th {\n",
       "        text-align: right;\n",
       "    }\n",
       "</style>\n",
       "<table border=\"1\" class=\"dataframe\">\n",
       "  <thead>\n",
       "    <tr style=\"text-align: right;\">\n",
       "      <th></th>\n",
       "      <th>id</th>\n",
       "      <th>label</th>\n",
       "      <th>tweet</th>\n",
       "    </tr>\n",
       "  </thead>\n",
       "  <tbody>\n",
       "    <tr>\n",
       "      <th>0</th>\n",
       "      <td>1</td>\n",
       "      <td>0</td>\n",
       "      <td>#fingerprint #Pregnancy Test https://goo.gl/h1...</td>\n",
       "    </tr>\n",
       "    <tr>\n",
       "      <th>1</th>\n",
       "      <td>2</td>\n",
       "      <td>0</td>\n",
       "      <td>Finally a transparant silicon case ^^ Thanks t...</td>\n",
       "    </tr>\n",
       "    <tr>\n",
       "      <th>2</th>\n",
       "      <td>3</td>\n",
       "      <td>0</td>\n",
       "      <td>We love this! Would you go? #talk #makememorie...</td>\n",
       "    </tr>\n",
       "    <tr>\n",
       "      <th>3</th>\n",
       "      <td>4</td>\n",
       "      <td>0</td>\n",
       "      <td>I'm wired I know I'm George I was made that wa...</td>\n",
       "    </tr>\n",
       "    <tr>\n",
       "      <th>4</th>\n",
       "      <td>5</td>\n",
       "      <td>1</td>\n",
       "      <td>What amazing service! Apple won't even talk to...</td>\n",
       "    </tr>\n",
       "  </tbody>\n",
       "</table>\n",
       "</div>"
      ],
      "text/plain": [
       "   id  label                                              tweet\n",
       "0   1      0  #fingerprint #Pregnancy Test https://goo.gl/h1...\n",
       "1   2      0  Finally a transparant silicon case ^^ Thanks t...\n",
       "2   3      0  We love this! Would you go? #talk #makememorie...\n",
       "3   4      0  I'm wired I know I'm George I was made that wa...\n",
       "4   5      1  What amazing service! Apple won't even talk to..."
      ]
     },
     "execution_count": 4,
     "metadata": {
      "tags": []
     },
     "output_type": "execute_result"
    }
   ],
   "source": [
    "train.head()"
   ]
  },
  {
   "cell_type": "code",
   "execution_count": 0,
   "metadata": {
    "colab": {},
    "colab_type": "code",
    "id": "ZxqJUfjUvoEc"
   },
   "outputs": [],
   "source": [
    "def PreProcessData(data):\n",
    "  ResultDF=data.copy()\n",
    "  Lemmatizer = WordNetLemmatizer()\n",
    "  StopWords =stopwords.words('english')\n",
    "  ResultDF['tweet'] = ResultDF['tweet'].apply(lambda x:'  '.join(Lemmatizer.lemmatize(i) for i in re.sub('[^a-zA-Z]',' ',x).split() if (i not in StopWords)&(len(i)>3)))\n",
    "  ResultDF.drop('id',axis=1,inplace=True)\n",
    "  return ResultDF"
   ]
  },
  {
   "cell_type": "code",
   "execution_count": 0,
   "metadata": {
    "colab": {},
    "colab_type": "code",
    "id": "tpdewCU-v_fp"
   },
   "outputs": [],
   "source": [
    "Preptrain = PreProcessData(train)\n",
    "Preptest = PreProcessData(test)"
   ]
  },
  {
   "cell_type": "code",
   "execution_count": 0,
   "metadata": {
    "colab": {},
    "colab_type": "code",
    "id": "kvmjS3_HB1mc"
   },
   "outputs": [],
   "source": []
  },
  {
   "cell_type": "code",
   "execution_count": 7,
   "metadata": {
    "colab": {
     "base_uri": "https://localhost:8080/",
     "height": 198
    },
    "colab_type": "code",
    "id": "Brx8mpSLzlGm",
    "outputId": "8df26817-589a-4822-e012-44739e8003f7"
   },
   "outputs": [
    {
     "data": {
      "text/html": [
       "<div>\n",
       "<style scoped>\n",
       "    .dataframe tbody tr th:only-of-type {\n",
       "        vertical-align: middle;\n",
       "    }\n",
       "\n",
       "    .dataframe tbody tr th {\n",
       "        vertical-align: top;\n",
       "    }\n",
       "\n",
       "    .dataframe thead th {\n",
       "        text-align: right;\n",
       "    }\n",
       "</style>\n",
       "<table border=\"1\" class=\"dataframe\">\n",
       "  <thead>\n",
       "    <tr style=\"text-align: right;\">\n",
       "      <th></th>\n",
       "      <th>label</th>\n",
       "      <th>tweet</th>\n",
       "    </tr>\n",
       "  </thead>\n",
       "  <tbody>\n",
       "    <tr>\n",
       "      <th>0</th>\n",
       "      <td>0</td>\n",
       "      <td>fingerprint  Pregnancy  Test  http  MfQV  andr...</td>\n",
       "    </tr>\n",
       "    <tr>\n",
       "      <th>1</th>\n",
       "      <td>0</td>\n",
       "      <td>Finally  transparant  silicon  case  Thanks  u...</td>\n",
       "    </tr>\n",
       "    <tr>\n",
       "      <th>2</th>\n",
       "      <td>0</td>\n",
       "      <td>love  Would  talk  makememories  unplug  relax...</td>\n",
       "    </tr>\n",
       "    <tr>\n",
       "      <th>3</th>\n",
       "      <td>0</td>\n",
       "      <td>wired  know  George  made  iphone  cute  daven...</td>\n",
       "    </tr>\n",
       "    <tr>\n",
       "      <th>4</th>\n",
       "      <td>1</td>\n",
       "      <td>What  amazing  service  Apple  even  talk  que...</td>\n",
       "    </tr>\n",
       "  </tbody>\n",
       "</table>\n",
       "</div>"
      ],
      "text/plain": [
       "   label                                              tweet\n",
       "0      0  fingerprint  Pregnancy  Test  http  MfQV  andr...\n",
       "1      0  Finally  transparant  silicon  case  Thanks  u...\n",
       "2      0  love  Would  talk  makememories  unplug  relax...\n",
       "3      0  wired  know  George  made  iphone  cute  daven...\n",
       "4      1  What  amazing  service  Apple  even  talk  que..."
      ]
     },
     "execution_count": 7,
     "metadata": {
      "tags": []
     },
     "output_type": "execute_result"
    }
   ],
   "source": [
    "Preptrain.head()"
   ]
  },
  {
   "cell_type": "code",
   "execution_count": 0,
   "metadata": {
    "colab": {},
    "colab_type": "code",
    "id": "zfBJ0l4A1RKF"
   },
   "outputs": [],
   "source": [
    "xtrain,xval,ytrain,yval = train_test_split(Preptrain.drop('label',axis=1),Preptrain['label'])"
   ]
  },
  {
   "cell_type": "code",
   "execution_count": 0,
   "metadata": {
    "colab": {},
    "colab_type": "code",
    "id": "I900zq8ZzoRg"
   },
   "outputs": [],
   "source": [
    "tfidfVec = TfidfVectorizer( max_df=0.8, max_features=10000,ngram_range=(1,2)) \n",
    "xtrain_tfidf = tfidfVec.fit_transform(xtrain.values.flatten())\n",
    "xval_tfidf =tfidfVec.transform(xval.values.flatten())\n",
    "test_tfidf = tfidfVec.transform(Preptest.values.flatten())\n"
   ]
  },
  {
   "cell_type": "code",
   "execution_count": 0,
   "metadata": {
    "colab": {},
    "colab_type": "code",
    "id": "icbD-dXK6Wqk"
   },
   "outputs": [],
   "source": [
    "def EvaluateModel(Model):\n",
    "  val_pred = Model.predict(xval_tfidf)\n",
    "  train_pred = Model.predict(xtrain_tfidf)\n",
    "  TrainAcc = accuracy_score(ytrain,train_pred)\n",
    "  ValAcc = accuracy_score(yval,val_pred)\n",
    "  print('Train Accuracy :{:.2f} , Valid Accuracy :{:.2f}'.format(TrainAcc,ValAcc))\n",
    "  FScore = f1_score(yval, val_pred, average=\"weighted\")\n",
    "  Precision=precision_score(yval, val_pred, average=\"weighted\")\n",
    "  Recall = recall_score(yval, val_pred, average=\"weighted\")\n",
    "  print('Weighted Average Score:')\n",
    "  print('Precision :{:.2f} , Recall :{:.2f} , F1Score :{:.2f} '.format(Precision, Recall, FScore))\n",
    "  return"
   ]
  },
  {
   "cell_type": "code",
   "execution_count": 86,
   "metadata": {
    "colab": {
     "base_uri": "https://localhost:8080/",
     "height": 90
    },
    "colab_type": "code",
    "id": "ZxYqVuiz6f2M",
    "outputId": "8e73b566-47f4-4814-b022-6deb2afe5132"
   },
   "outputs": [
    {
     "name": "stdout",
     "output_type": "stream",
     "text": [
      "{'C': 1, 'class_weight': 'balanced', 'penalty': 'l2'}\n",
      "Train Accuracy :0.92 , Valid Accuracy :0.89\n",
      "Weighted Average Score:\n",
      "Precision :0.91 , Recall :0.89 , F1Score :0.89 \n"
     ]
    }
   ],
   "source": [
    "lr = LogisticRegression(max_iter=3000 )\n",
    "params = {'C':[0.01,1,10],\n",
    "       'penalty':['l1','l2'] , \n",
    "       'class_weight':[None,'balanced'],\n",
    "       }\n",
    "GridCV_lr = GridSearchCV(lr , param_grid = params , scoring='f1_weighted' , n_jobs=-1)\n",
    "GridCV_lr.fit(xtrain_tfidf, ytrain)\n",
    "print(GridCV_lr.best_params_)\n",
    "EvaluateModel(GridCV_lr)"
   ]
  },
  {
   "cell_type": "code",
   "execution_count": 87,
   "metadata": {
    "colab": {
     "base_uri": "https://localhost:8080/",
     "height": 108
    },
    "colab_type": "code",
    "id": "82v3ttoy6pap",
    "outputId": "d5fd439a-f658-4095-976a-a9c84dcc299e"
   },
   "outputs": [
    {
     "name": "stdout",
     "output_type": "stream",
     "text": [
      "{'max_depth': 10} \n",
      "\n",
      "Train Accuracy :0.85 , Valid Accuracy :0.84\n",
      "Weighted Average Score:\n",
      "Precision :0.88 , Recall :0.84 , F1Score :0.85 \n"
     ]
    }
   ],
   "source": [
    "rf = RandomForestClassifier(class_weight='balanced' )\n",
    "params = {'max_depth':[5,10] }\n",
    "GridCV_rf = GridSearchCV(rf , param_grid = params , scoring='f1_weighted' , n_jobs=-1)\n",
    "GridCV_rf.fit(xtrain_tfidf, ytrain)\n",
    "print(GridCV_rf.best_params_,'\\n')\n",
    "EvaluateModel(GridCV_rf)"
   ]
  },
  {
   "cell_type": "code",
   "execution_count": 93,
   "metadata": {
    "colab": {
     "base_uri": "https://localhost:8080/",
     "height": 72
    },
    "colab_type": "code",
    "id": "m8JzyxNS8foK",
    "outputId": "c6f1137f-7c3c-4a42-a164-76a816977bab"
   },
   "outputs": [
    {
     "name": "stdout",
     "output_type": "stream",
     "text": [
      "Train Accuracy :0.90 , Valid Accuracy :0.88\n",
      "Weighted Average Score:\n",
      "Precision :0.89 , Recall :0.88 , F1Score :0.88 \n"
     ]
    }
   ],
   "source": [
    "xgb = XGBClassifier( )\n",
    "params = { 'max_depth':[-1,5,10],\n",
    "          'learning_rate':[0.01,0.1,1,0.001]}\n",
    "GridCV_xgb = GridSearchCV(xgb , param_grid = params , scoring='f1_weighted' , n_jobs=-1)\n",
    "GridCV_xgb.fit(xtrain_tfidf, ytrain)\n",
    "EvaluateModel(GridCV_xgb)"
   ]
  },
  {
   "cell_type": "code",
   "execution_count": 11,
   "metadata": {
    "colab": {
     "base_uri": "https://localhost:8080/",
     "height": 72
    },
    "colab_type": "code",
    "id": "nEodxqAv8nCC",
    "outputId": "50c140bf-4bdd-489d-9967-6798520e8f57"
   },
   "outputs": [
    {
     "name": "stdout",
     "output_type": "stream",
     "text": [
      "Train Accuracy :0.92 , Valid Accuracy :0.89\n",
      "Weighted Average Score:\n",
      "Precision :0.89 , Recall :0.89 , F1Score :0.89 \n"
     ]
    }
   ],
   "source": [
    "lg =LGBMClassifier( )\n",
    "params = { 'max_depth':[-1,5,10],\n",
    "          'learning_rate':[0.01,0.1,1,0.001]}\n",
    "GridCV_lgb = GridSearchCV(lg , param_grid = params , scoring='f1_weighted' , n_jobs=-1)\n",
    "GridCV_lgb.fit(xtrain_tfidf, ytrain)\n",
    "EvaluateModel(GridCV_lgb)"
   ]
  },
  {
   "cell_type": "code",
   "execution_count": 24,
   "metadata": {
    "colab": {
     "base_uri": "https://localhost:8080/",
     "height": 165
    },
    "colab_type": "code",
    "id": "I-Y5FQNgDObk",
    "outputId": "0c267cdc-87e5-490a-e325-a47b77cc7e3c"
   },
   "outputs": [
    {
     "name": "stderr",
     "output_type": "stream",
     "text": [
      "/usr/local/lib/python3.6/dist-packages/sklearn/svm/_base.py:231: ConvergenceWarning: Solver terminated early (max_iter=3000).  Consider pre-processing your data with StandardScaler or MinMaxScaler.\n",
      "  % self.max_iter, ConvergenceWarning)\n"
     ]
    },
    {
     "name": "stdout",
     "output_type": "stream",
     "text": [
      "{'C': 1} \n",
      "\n",
      "Train Accuracy :0.97 , Valid Accuracy :0.90\n",
      "Weighted Average Score:\n",
      "Precision :0.90 , Recall :0.90 , F1Score :0.90 \n"
     ]
    }
   ],
   "source": [
    "svc = SVC(max_iter=3000, class_weight = 'balanced' )\n",
    "params = {'C':[0.001,0.01,1] \n",
    "       }\n",
    "GridCV_svc = GridSearchCV(svc , param_grid = params , scoring='f1_weighted' , n_jobs=-1)\n",
    "GridCV_svc.fit(xtrain_tfidf, ytrain)\n",
    "print(GridCV_svc.best_params_,'\\n')\n",
    "EvaluateModel(GridCV_svc)"
   ]
  },
  {
   "cell_type": "code",
   "execution_count": 25,
   "metadata": {
    "colab": {
     "base_uri": "https://localhost:8080/",
     "height": 35
    },
    "colab_type": "code",
    "id": "2jwgeL1E87Wf",
    "outputId": "f75d1a81-00c3-4bec-917b-c260a68dccc7"
   },
   "outputs": [
    {
     "data": {
      "text/plain": [
       "array([1, 0, 1, ..., 1, 1, 0])"
      ]
     },
     "execution_count": 25,
     "metadata": {
      "tags": []
     },
     "output_type": "execute_result"
    }
   ],
   "source": [
    "test_preds = GridCV_svc.predict(test_tfidf)\n",
    "test_preds"
   ]
  },
  {
   "cell_type": "code",
   "execution_count": 0,
   "metadata": {
    "colab": {},
    "colab_type": "code",
    "id": "oeT-ObkD-uCC"
   },
   "outputs": [],
   "source": [
    "sample['label'] = test_preds\n",
    "sample.to_csv('Mysub1.csv',index=False)"
   ]
  },
  {
   "cell_type": "code",
   "execution_count": 0,
   "metadata": {
    "colab": {},
    "colab_type": "code",
    "id": "B4J3yttq-1cZ"
   },
   "outputs": [],
   "source": []
  }
 ],
 "metadata": {
  "colab": {
   "collapsed_sections": [],
   "name": "SentimentAnalysis.ipynb",
   "provenance": []
  },
  "kernelspec": {
   "display_name": "Python 3",
   "language": "python",
   "name": "python3"
  },
  "language_info": {
   "codemirror_mode": {
    "name": "ipython",
    "version": 3
   },
   "file_extension": ".py",
   "mimetype": "text/x-python",
   "name": "python",
   "nbconvert_exporter": "python",
   "pygments_lexer": "ipython3",
   "version": "3.7.3"
  }
 },
 "nbformat": 4,
 "nbformat_minor": 1
}
